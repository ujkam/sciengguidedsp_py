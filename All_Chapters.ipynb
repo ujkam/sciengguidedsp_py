{
 "cells": [
  {
   "cell_type": "code",
   "execution_count": 104,
   "id": "30bd6bf5-5c6b-47f3-a29f-3309a1feab15",
   "metadata": {},
   "outputs": [
    {
     "name": "stdout",
     "output_type": "stream",
     "text": [
      "The watermark extension is already loaded. To reload it, use:\n",
      "  %reload_ext watermark\n"
     ]
    }
   ],
   "source": [
    "import numpy as np\n",
    "import random\n",
    "import math\n",
    "%load_ext watermark\n",
    "\n",
    "random.seed(1234)"
   ]
  },
  {
   "cell_type": "code",
   "execution_count": 105,
   "id": "4f2584e1-a64b-4a3c-b42c-3df67775bf39",
   "metadata": {},
   "outputs": [
    {
     "name": "stdout",
     "output_type": "stream",
     "text": [
      "Last updated: 2024-03-18T10:01:43.144597-04:00\n",
      "\n",
      "Python implementation: CPython\n",
      "Python version       : 3.12.2\n",
      "IPython version      : 8.20.0\n",
      "\n",
      "Compiler    : MSC v.1916 64 bit (AMD64)\n",
      "OS          : Windows\n",
      "Release     : 11\n",
      "Machine     : AMD64\n",
      "Processor   : Intel64 Family 6 Model 141 Stepping 1, GenuineIntel\n",
      "CPU cores   : 12\n",
      "Architecture: 64bit\n",
      "\n"
     ]
    }
   ],
   "source": [
    "%watermark"
   ]
  },
  {
   "cell_type": "code",
   "execution_count": 106,
   "id": "ce546fa8-5e86-4497-bec4-3bf7929658f7",
   "metadata": {},
   "outputs": [
    {
     "name": "stdout",
     "output_type": "stream",
     "text": [
      "numpy: 1.26.4\n",
      "\n"
     ]
    }
   ],
   "source": [
    "%watermark --iversions"
   ]
  },
  {
   "cell_type": "markdown",
   "id": "db09a173-0a60-44af-9c13-aa11a9819dc3",
   "metadata": {},
   "source": [
    "# This notebook contains python implementatations of the code in The Scientist and Engineer's Guide to Digital Signal Processing\" by By Steven W. Smith, Ph.D.  I've tried to have two versions of the code.  The first version is a almost exact translation of the BASIC code into Python, which will result in bad/low-performance/ugly python code (e.g. looping everything).  I've also tried to reimplement the code by being more pythonic and also using the libraries that would normally be used when implementing these types of functions.   \n",
    "\n",
    "# I've tried to avoid using numpy or scipy because the goal of the example code is to show and explain how some of these DSP functions are actually implemented.  In any non-academic setting it would be more pragmatic to use a numpy array and not a python list, but I think it's easier to stick to the spirit of the original BASIC code using standard python data structures and functions."
   ]
  },
  {
   "cell_type": "markdown",
   "id": "31720ded-c302-423b-b348-5fb16c5b4b81",
   "metadata": {},
   "source": [
    "# Chapter 2"
   ]
  },
  {
   "cell_type": "markdown",
   "id": "36c83cfa-d926-46b6-81c5-b46b5ce6ea17",
   "metadata": {},
   "source": [
    "## 2-1 Calculate Mean and Standard Deviation"
   ]
  },
  {
   "cell_type": "code",
   "execution_count": 107,
   "id": "ee6deac1-57e5-48d9-96fa-aca8d9c55157",
   "metadata": {},
   "outputs": [
    {
     "name": "stdout",
     "output_type": "stream",
     "text": [
      "Mean:1.54,Standard Deviation:1.11\n"
     ]
    }
   ],
   "source": [
    "#2-1 BASIC to Python\n",
    "n = 512\n",
    "#Generate random integers\n",
    "x = [random.randint(0,3) for i in range(n)]\n",
    "\n",
    "mean=0\n",
    "for i in range(512):\n",
    "    mean = mean + x[i]\n",
    "mean = mean/n\n",
    "\n",
    "variance = 0\n",
    "for i in range(512):\n",
    "    variance = variance + (x[i] - mean)**2\n",
    "sd = math.sqrt(variance/(n-1))\n",
    "print(f'Mean:{round(mean,2)},Standard Deviation:{round(sd,2)}')"
   ]
  },
  {
   "cell_type": "code",
   "execution_count": 108,
   "id": "6067d3cc-30a8-4a52-a281-9db05c7df6f8",
   "metadata": {},
   "outputs": [
    {
     "name": "stdout",
     "output_type": "stream",
     "text": [
      "Mean:1.54,Standard Deviation:1.11\n"
     ]
    }
   ],
   "source": [
    "#2-1 Pythonic\n",
    "#n = 512\n",
    "#x = [random.randint(0,3) for i in range(n)]\n",
    "\n",
    "mean = sum(x)/n\n",
    "variance = sum([(i - mean)**2 for i in x])\n",
    "sd = math.sqrt(variance/(n-1))\n",
    "print(f'Mean:{round(mean,2)},Standard Deviation:{round(sd,2)}')"
   ]
  },
  {
   "cell_type": "markdown",
   "id": "2cec6af5-0eb7-4aa8-9798-7871426edcce",
   "metadata": {},
   "source": [
    "## 2-2 Calculate Running Mean and Standard Deviation"
   ]
  },
  {
   "cell_type": "code",
   "execution_count": 109,
   "id": "0649d9f3-1a28-44d0-b96e-d2ff6fcea469",
   "metadata": {},
   "outputs": [
    {
     "name": "stdout",
     "output_type": "stream",
     "text": [
      "Mean:3.0,Standard Deviation:0.0\n",
      "Mean:1.5,Standard Deviation:2.12\n",
      "Mean:1.67,Standard Deviation:1.53\n",
      "Mean:1.5,Standard Deviation:1.29\n",
      "Mean:1.8,Standard Deviation:1.3\n",
      "Mean:2.0,Standard Deviation:1.26\n",
      "Mean:1.86,Standard Deviation:1.21\n",
      "Mean:1.88,Standard Deviation:1.13\n",
      "Mean:1.78,Standard Deviation:1.09\n",
      "Mean:1.9,Standard Deviation:1.1\n"
     ]
    }
   ],
   "source": [
    "#2-2 BASIC To Python\n",
    "#Generate random integers\n",
    "x = [random.randint(0,3) for i in range(10)]\n",
    "n= 0               \n",
    "total = 0 #Sum is a python function, so we cannot use it as a variable name\n",
    "sum_squares = 0\n",
    "\n",
    "#Since this is a \"running\" or streaming calcualation, the loop simulates values arriving one after another, and then the statistics are calculated for every new value\n",
    "for i in range(len(x)):\n",
    "    n = n+1         \n",
    "    total = total + x[i]\n",
    "    sum_squares = sum_squares + x[i]**2\n",
    "    mean = total/n\n",
    "    #I needed to add this if statement because when n is 1, the denominator for the variance calcualation is zero. This is listed as errata on the book website. \n",
    "    if n > 1:\n",
    "        variance = (sum_squares - total**2/n) / (n-1)\n",
    "    else:\n",
    "        variance = (sum_squares - total**2/n) / (n)\n",
    "    sd = math.sqrt(variance)\n",
    "    print(f'Mean:{round(mean,2)},Standard Deviation:{round(sd,2)}')"
   ]
  },
  {
   "cell_type": "code",
   "execution_count": 110,
   "id": "3caa55c5-12f3-45e7-905c-d7019e0c807f",
   "metadata": {},
   "outputs": [
    {
     "name": "stdout",
     "output_type": "stream",
     "text": [
      "Mean:3.0,Standard Deviation:0.0\n",
      "Mean:1.5,Standard Deviation:2.12\n",
      "Mean:1.67,Standard Deviation:1.53\n",
      "Mean:1.5,Standard Deviation:1.29\n",
      "Mean:1.8,Standard Deviation:1.3\n",
      "Mean:2.0,Standard Deviation:1.26\n",
      "Mean:1.86,Standard Deviation:1.21\n",
      "Mean:1.88,Standard Deviation:1.13\n",
      "Mean:1.78,Standard Deviation:1.09\n",
      "Mean:1.9,Standard Deviation:1.1\n"
     ]
    }
   ],
   "source": [
    "#2-2 Pythonic.              \n",
    "total = 0\n",
    "sum_squares = 0\n",
    "\n",
    "for i,value in enumerate(x):        \n",
    "    n = i + 1\n",
    "    total = total + value\n",
    "    sum_squares = sum_squares + value**2\n",
    "    mean = total/(n)\n",
    "    #I needed to add this if statement because when n is 1, the denominator for the variance calcualation is zero.  This is listed as errata on the book website. \n",
    "    if n > 1:\n",
    "        variance = (sum_squares - total**2/(n)) / (n-1)\n",
    "    else:\n",
    "        variance = (sum_squares - total**2/(n)) / (n)\n",
    "    sd = math.sqrt(variance)\n",
    "    print(f'Mean:{round(mean,2)},Standard Deviation:{round(sd,2)}')"
   ]
  },
  {
   "cell_type": "markdown",
   "id": "b112d677-bcd6-4622-87b1-5d478fd053b6",
   "metadata": {},
   "source": [
    "## 2-3 Calculate the Histogram, mean, and standard deviations"
   ]
  },
  {
   "cell_type": "code",
   "execution_count": 111,
   "id": "649baec6-88fd-4ed7-a049-cac71d5b4758",
   "metadata": {},
   "outputs": [
    {
     "name": "stdout",
     "output_type": "stream",
     "text": [
      "Mean:127.69,Standard Deviation:73.95\n"
     ]
    }
   ],
   "source": [
    "#2-3 BASIC To Python\n",
    "n = 25001\n",
    "#Generate random integers\n",
    "x = [random.randint(0,254) for i in range(n)]\n",
    "\n",
    "#Initialise list of histogram values\n",
    "h = []\n",
    "for i in range(255):\n",
    "    h.append(0)\n",
    "\n",
    "#Calculate Histogram\n",
    "for i in range(len(x)):\n",
    "    h[x[i]] = h[x[i]] + 1\n",
    "\n",
    "mean = 0\n",
    "for i in range(len(h)):\n",
    "    mean = mean + i * h[i]\n",
    "mean = mean / n\n",
    "\n",
    "variance = 0\n",
    "for i in range(len(h)):\n",
    "    variance = variance + h[i] * (i - mean)**2\n",
    "variance = variance / (n-1)\n",
    "sd = math.sqrt(variance)\n",
    "print(f'Mean:{round(mean,2)},Standard Deviation:{round(sd,2)}')"
   ]
  },
  {
   "cell_type": "code",
   "execution_count": 112,
   "id": "62decd2f-4561-4dad-adc4-2715ada1eab3",
   "metadata": {},
   "outputs": [
    {
     "name": "stdout",
     "output_type": "stream",
     "text": [
      "Mean:127.69,Standard Deviation:73.95\n"
     ]
    }
   ],
   "source": [
    "#2-3 Pythonic\n",
    "n = 25001\n",
    "\n",
    "#Initialise list of histogram values\n",
    "h = [0] * 255\n",
    "\n",
    "#Calculate Histogram\n",
    "for i in range(len(x)):\n",
    "    h[x[i]] = h[x[i]] + 1\n",
    "\n",
    "#This is probably a great example of where numpy multiplication makes more sense, but we will avoid it and use a list comprehension\n",
    "mean = sum([i * value for i,value in enumerate(h)])\n",
    "mean = mean / n\n",
    "\n",
    "variance = sum([value * (i - mean)**2 for i,value in enumerate(h)])\n",
    "variance = variance / (n - 1)\n",
    "sd = math.sqrt(variance)\n",
    "\n",
    "print(f'Mean:{round(mean,2)},Standard Deviation:{round(sd,2)}')"
   ]
  },
  {
   "cell_type": "markdown",
   "id": "b22b9f6d-300e-42ff-9104-6984d25f7763",
   "metadata": {},
   "source": [
    "## 2-4 Calculating the Binned Histogram"
   ]
  },
  {
   "cell_type": "code",
   "execution_count": 113,
   "id": "7a1dbd2e-cd65-43d5-9932-15c88e0c7ce9",
   "metadata": {},
   "outputs": [],
   "source": [
    "#2-4 BASIC To Python\n",
    "n = 25000\n",
    "#Generate random integers\n",
    "x = [random.random()*10 for i in range(n)]\n",
    "\n",
    "#Initialise list of histogram values.  Note that the length of the array is 1000 since so that position 999 exists.\n",
    "h = []\n",
    "for i in range(1000):\n",
    "    h.append(0)\n",
    "\n",
    "for i in range(n):\n",
    "    bin_num = int(x[i] * 100) #Multipled by 100 instead of the .01 in the book.  This is listed as errata on the book website. \n",
    "    h[bin_num] = h[bin_num]+1"
   ]
  },
  {
   "cell_type": "code",
   "execution_count": 114,
   "id": "a0fc586d-a874-4f26-85c4-8be817c8c9bf",
   "metadata": {},
   "outputs": [],
   "source": [
    "#2-4 Pythonic\n",
    "#Initialise list of histogram values.  Note that the length of the array is 1000 since so that position 999 exists.\n",
    "h = [0] * 1000\n",
    "\n",
    "bin_num = [int((i) * 100) for i in x]\n",
    "#h = [for i in bin_num]\n",
    "\n",
    "#This avoids the loop, but I'm not confident that this is better than the loop.\n",
    "from collections import Counter\n",
    "bin_num_unsort = Counter(bin_num)\n",
    "bin_num_sort = sorted(bin_num_unsort.items())\n",
    "bin_num = [y for x,y in bin_num_sort]"
   ]
  },
  {
   "cell_type": "markdown",
   "id": "3a13a538-fc72-44b2-a5b0-1fe28361ecbf",
   "metadata": {},
   "source": [
    "# Chapter 6"
   ]
  },
  {
   "cell_type": "markdown",
   "id": "3ef88c59-1214-4b8f-bde7-2998c0b4e255",
   "metadata": {},
   "source": [
    "# 6-1 Convolution using the input side algorithm"
   ]
  },
  {
   "cell_type": "code",
   "execution_count": 115,
   "id": "06a537ab-ee6c-42bd-b3ce-3c72ca732425",
   "metadata": {},
   "outputs": [
    {
     "name": "stdout",
     "output_type": "stream",
     "text": [
      "[1, 3, 4, 3, 2, 5, 8, 11, 15, 19, 18, 17, 24, 28, 29, 32, 37, 35, 44, 39, 42, 44, 37, 40, 41, 43, 50, 34, 55, 41, 41, 45, 35, 34, 44, 55, 52, 53, 46, 37, 41, 37, 38, 34, 47, 40, 37, 58, 45, 30, 43, 34, 39, 36, 44, 49, 55, 39, 39, 36, 53, 37, 37, 46, 57, 42, 47, 47, 37, 44, 57, 51, 51, 52, 51, 45, 53, 42, 39, 54, 53, 37, 56, 50, 51, 44, 42, 30, 46, 38, 24, 24, 41, 34, 31, 20, 22, 22, 20, 4, 6, 14, 14, 6, 3, 9, 15, 12, 6, 0]\n"
     ]
    }
   ],
   "source": [
    "#6-1 BASIC To Python\n",
    "x = [random.randint(0,3) for i in range(80)]\n",
    "h = [random.randint(0,3) for i in range(30)]\n",
    "\n",
    "y = []\n",
    "for i in range(110):\n",
    "    y.append(0)\n",
    "\n",
    "for i in range(len(x)):\n",
    "    for j in range(len(h)):\n",
    "        y[i+j] = y[i+j] + x[i]*h[j]\n",
    "print(y)"
   ]
  },
  {
   "cell_type": "code",
   "execution_count": 116,
   "id": "ee195848-08cc-4caf-bbca-4c0eee04bf8f",
   "metadata": {},
   "outputs": [
    {
     "name": "stdout",
     "output_type": "stream",
     "text": [
      "[1, 3, 4, 3, 2, 5, 8, 11, 15, 19, 18, 17, 24, 28, 29, 32, 37, 35, 44, 39, 42, 44, 37, 40, 41, 43, 50, 34, 55, 41, 41, 45, 35, 34, 44, 55, 52, 53, 46, 37, 41, 37, 38, 34, 47, 40, 37, 58, 45, 30, 43, 34, 39, 36, 44, 49, 55, 39, 39, 36, 53, 37, 37, 46, 57, 42, 47, 47, 37, 44, 57, 51, 51, 52, 51, 45, 53, 42, 39, 54, 53, 37, 56, 50, 51, 44, 42, 30, 46, 38, 24, 24, 41, 34, 31, 20, 22, 22, 20, 4, 6, 14, 14, 6, 3, 9, 15, 12, 6, 0]\n"
     ]
    }
   ],
   "source": [
    "#6-1 Pythonic\n",
    "y = [0] * 110\n",
    "\n",
    "for i, x_val in enumerate(x):\n",
    "    for j, h_val in enumerate(h):\n",
    "        y[i+j] = y[i+j] + x_val*h_val\n",
    "print(y)"
   ]
  },
  {
   "cell_type": "markdown",
   "id": "f1207a88-f561-4a74-84e3-8fc9882ce8dc",
   "metadata": {},
   "source": [
    "# 6-1 Convolution using the output side algorithm"
   ]
  },
  {
   "cell_type": "code",
   "execution_count": 117,
   "id": "57cd3f9c-119c-48e5-affc-5a58bc8db760",
   "metadata": {},
   "outputs": [
    {
     "name": "stdout",
     "output_type": "stream",
     "text": [
      "[0, 0, 3, 2, 8, 14, 14, 18, 11, 21, 26, 20, 24, 26, 32, 31, 32, 34, 39, 46, 48, 57, 58, 53, 69, 64, 58, 77, 70, 64, 71, 68, 64, 73, 69, 67, 74, 71, 53, 58, 74, 58, 60, 70, 58, 51, 56, 53, 53, 56, 55, 61, 45, 43, 40, 51, 47, 53, 53, 57, 46, 58, 50, 67, 67, 69, 72, 76, 58, 67, 66, 78, 71, 79, 82, 74, 68, 86, 75, 88, 87, 80, 70, 74, 59, 67, 57, 67, 54, 65, 57, 53, 42, 50, 39, 41, 35, 40, 30, 27, 28, 22, 19, 23, 20, 13, 13, 5, 3, 0]\n"
     ]
    }
   ],
   "source": [
    "#6-2 BASIC To Python\n",
    "x = [random.randint(0,3) for i in range(80)]\n",
    "h = [random.randint(0,3) for i in range(30)]\n",
    "\n",
    "y = []\n",
    "for i in range(110):\n",
    "    y.append(0)\n",
    "    for j in range(len(h)):\n",
    "        #Python doesn't have a goto statement (for good reason!), so it doesn't make sense to try to recreate the original logic using if and go statements. \n",
    "        if ((i - j) >= 0) & ((i - j) < len(x)):\n",
    "            y[i] = y[i] + h[j] * x[i-j]\n",
    "print(y)"
   ]
  },
  {
   "cell_type": "code",
   "execution_count": 118,
   "id": "1259794e-95a4-475c-9381-0c5071a78386",
   "metadata": {},
   "outputs": [
    {
     "name": "stdout",
     "output_type": "stream",
     "text": [
      "[0, 0, 3, 2, 8, 14, 14, 18, 11, 21, 26, 20, 24, 26, 32, 31, 32, 34, 39, 46, 48, 57, 58, 53, 69, 64, 58, 77, 70, 64, 71, 68, 64, 73, 69, 67, 74, 71, 53, 58, 74, 58, 60, 70, 58, 51, 56, 53, 53, 56, 55, 61, 45, 43, 40, 51, 47, 53, 53, 57, 46, 58, 50, 67, 67, 69, 72, 76, 58, 67, 66, 78, 71, 79, 82, 74, 68, 86, 75, 88, 87, 80, 70, 74, 59, 67, 57, 67, 54, 65, 57, 53, 42, 50, 39, 41, 35, 40, 30, 27, 28, 22, 19, 23, 20, 13, 13, 5, 3, 0]\n"
     ]
    }
   ],
   "source": [
    "#6-2 Pythonic\n",
    "\n",
    "y = [0] * 110\n",
    "for i in range(len(y)):\n",
    "    for j in range(len(h)):\n",
    "        #Python doesn't have a goto statement (for good reason!), so it doesn't make sense to try to recreate the original if and go statements. \n",
    "        if ((i - j) >= 0) & ((i - j) < len(x)):\n",
    "            y[i] = y[i] + h[j] * x[i-j]\n",
    "print(y)"
   ]
  },
  {
   "cell_type": "code",
   "execution_count": null,
   "id": "f341c5b1-b82c-42b1-94ed-4fd68e246470",
   "metadata": {},
   "outputs": [],
   "source": []
  }
 ],
 "metadata": {
  "kernelspec": {
   "display_name": "Python 3 (ipykernel)",
   "language": "python",
   "name": "python3"
  },
  "language_info": {
   "codemirror_mode": {
    "name": "ipython",
    "version": 3
   },
   "file_extension": ".py",
   "mimetype": "text/x-python",
   "name": "python",
   "nbconvert_exporter": "python",
   "pygments_lexer": "ipython3",
   "version": "3.12.2"
  }
 },
 "nbformat": 4,
 "nbformat_minor": 5
}
