{
 "cells": [
  {
   "cell_type": "code",
   "execution_count": 4,
   "id": "30bd6bf5-5c6b-47f3-a29f-3309a1feab15",
   "metadata": {},
   "outputs": [],
   "source": [
    "import numpy as np\n",
    "import random\n",
    "import math\n",
    "\n",
    "random.seed(1234)"
   ]
  },
  {
   "cell_type": "code",
   "execution_count": 2,
   "id": "4f2584e1-a64b-4a3c-b42c-3df67775bf39",
   "metadata": {},
   "outputs": [],
   "source": []
  },
  {
   "cell_type": "markdown",
   "id": "db09a173-0a60-44af-9c13-aa11a9819dc3",
   "metadata": {},
   "source": [
    "# This notebook contains python implementatations of the code in The Scientist and Engineer's Guide to Digital Signal Processing\" by By Steven W. Smith, Ph.D.  I've tried to have two versions of the code.  The first version is a almost exact translation of the BASIC code into Python, which will result in bad/low-performance/ugly python code (e.g. looping everything).  I've also tried to reimplement the code by being more pythonic and also using the libraries that would normally be used when implementing these types of functions.   \n",
    "\n",
    "# I've tried to avoid using numpy or scipy because the goal of the example code is to show and explain how some of these DSP functions are actually implemented.  In any non-academic setting it would be more pragmatic to use a numpy array and not a python list, but I think it's easier to stick to the spirit of the original BASIC code using standard python data structures and functions."
   ]
  },
  {
   "cell_type": "markdown",
   "id": "31720ded-c302-423b-b348-5fb16c5b4b81",
   "metadata": {},
   "source": [
    "# Chapter 2"
   ]
  },
  {
   "cell_type": "markdown",
   "id": "36c83cfa-d926-46b6-81c5-b46b5ce6ea17",
   "metadata": {},
   "source": [
    "## 2-1 Calculate Mean and Standard Deviation"
   ]
  },
  {
   "cell_type": "code",
   "execution_count": 57,
   "id": "ee6deac1-57e5-48d9-96fa-aca8d9c55157",
   "metadata": {},
   "outputs": [
    {
     "name": "stdout",
     "output_type": "stream",
     "text": [
      "Mean:1.48,Standard Deviation:1.14\n"
     ]
    }
   ],
   "source": [
    "#2-1 BASIC to Python\n",
    "n = 512\n",
    "#Generate random integers\n",
    "x = [random.randint(0,3) for i in range(n)]\n",
    "\n",
    "mean=0\n",
    "for i in range(512):\n",
    "    mean = mean + x[i]\n",
    "mean = mean/n\n",
    "\n",
    "variance = 0\n",
    "for i in range(512):\n",
    "    variance = variance + (x[i] - mean)**2\n",
    "sd = math.sqrt(variance/(n-1))\n",
    "print(f'Mean:{round(mean,2)},Standard Deviation:{round(sd,2)}')"
   ]
  },
  {
   "cell_type": "code",
   "execution_count": 59,
   "id": "6067d3cc-30a8-4a52-a281-9db05c7df6f8",
   "metadata": {},
   "outputs": [
    {
     "name": "stdout",
     "output_type": "stream",
     "text": [
      "Mean:1.48,Standard Deviation:1.14\n"
     ]
    }
   ],
   "source": [
    "#2-1 Pythonic\n",
    "#n = 512\n",
    "#x = [random.randint(0,3) for i in range(n)]\n",
    "\n",
    "mean = sum(x)/n\n",
    "variance = sum([(i - mean)**2 for i in x])\n",
    "sd = math.sqrt(variance/(n-1))\n",
    "print(f'Mean:{round(mean,2)},Standard Deviation:{round(sd,2)}')"
   ]
  },
  {
   "cell_type": "markdown",
   "id": "2cec6af5-0eb7-4aa8-9798-7871426edcce",
   "metadata": {},
   "source": [
    "## 2-2 Calculate Running Mean and Standard Deviation"
   ]
  },
  {
   "cell_type": "code",
   "execution_count": 5,
   "id": "0649d9f3-1a28-44d0-b96e-d2ff6fcea469",
   "metadata": {},
   "outputs": [
    {
     "name": "stdout",
     "output_type": "stream",
     "text": [
      "Mean:3.0,Standard Deviation:0.0\n",
      "Mean:1.5,Standard Deviation:2.12\n",
      "Mean:1.0,Standard Deviation:1.73\n",
      "Mean:0.75,Standard Deviation:1.5\n",
      "Mean:0.6,Standard Deviation:1.34\n",
      "Mean:0.5,Standard Deviation:1.22\n",
      "Mean:0.43,Standard Deviation:1.13\n",
      "Mean:0.62,Standard Deviation:1.19\n",
      "Mean:0.67,Standard Deviation:1.12\n",
      "Mean:0.6,Standard Deviation:1.07\n"
     ]
    }
   ],
   "source": [
    "#2-2 BASIC To Python\n",
    "#Generate random integers\n",
    "x = [random.randint(0,3) for i in range(10)]\n",
    "n= 0               \n",
    "total = 0 #Sum is a python function, so we cannot use it as a variable name\n",
    "sum_squares = 0\n",
    "\n",
    "#Since this is a \"running\" or streaming calcualation, the loop simulates values arriving one after another, and then the statistics are calculated for every new value\n",
    "for i in range(len(x)):\n",
    "    n = n+1         \n",
    "    total = total + x[i]\n",
    "    sum_squares = sum_squares + x[i]**2\n",
    "    mean = total/n\n",
    "    #I needed to add this if statement because when n is 1, the denominator for the variance calcualation is zero. This is listed as errata on the book website. \n",
    "    if n > 1:\n",
    "        variance = (sum_squares - total**2/n) / (n-1)\n",
    "    else:\n",
    "        variance = (sum_squares - total**2/n) / (n)\n",
    "    sd = math.sqrt(variance)\n",
    "    print(f'Mean:{round(mean,2)},Standard Deviation:{round(sd,2)}')"
   ]
  },
  {
   "cell_type": "code",
   "execution_count": 6,
   "id": "3caa55c5-12f3-45e7-905c-d7019e0c807f",
   "metadata": {},
   "outputs": [
    {
     "name": "stdout",
     "output_type": "stream",
     "text": [
      "Mean:3.0,Standard Deviation:0.0\n",
      "Mean:1.5,Standard Deviation:2.12\n",
      "Mean:1.0,Standard Deviation:1.73\n",
      "Mean:0.75,Standard Deviation:1.5\n",
      "Mean:0.6,Standard Deviation:1.34\n",
      "Mean:0.5,Standard Deviation:1.22\n",
      "Mean:0.43,Standard Deviation:1.13\n",
      "Mean:0.62,Standard Deviation:1.19\n",
      "Mean:0.67,Standard Deviation:1.12\n",
      "Mean:0.6,Standard Deviation:1.07\n"
     ]
    }
   ],
   "source": [
    "#2-2 Pythonic.              \n",
    "total = 0\n",
    "sum_squares = 0\n",
    "\n",
    "for i,value in enumerate(x):        \n",
    "    n = i + 1\n",
    "    total = total + value\n",
    "    sum_squares = sum_squares + value**2\n",
    "    mean = total/(n)\n",
    "    #I needed to add this if statement because when n is 1, the denominator for the variance calcualation is zero.  This is listed as errata on the book website. \n",
    "    if n > 1:\n",
    "        variance = (sum_squares - total**2/(n)) / (n-1)\n",
    "    else:\n",
    "        variance = (sum_squares - total**2/(n)) / (n)\n",
    "    sd = math.sqrt(variance)\n",
    "    print(f'Mean:{round(mean,2)},Standard Deviation:{round(sd,2)}')"
   ]
  },
  {
   "cell_type": "markdown",
   "id": "b112d677-bcd6-4622-87b1-5d478fd053b6",
   "metadata": {},
   "source": [
    "## 2-3 Calculate the Histogram, mean, and standard deviations"
   ]
  },
  {
   "cell_type": "code",
   "execution_count": 108,
   "id": "7b04fbdb-f781-400f-bd05-78c15a85f196",
   "metadata": {},
   "outputs": [
    {
     "ename": "SyntaxError",
     "evalue": "unterminated string literal (detected at line 1) (3172487382.py, line 1)",
     "output_type": "error",
     "traceback": [
      "\u001b[1;36m  Cell \u001b[1;32mIn[108], line 1\u001b[1;36m\u001b[0m\n\u001b[1;33m    100 'CALCULATION OF THE HISTOGRAM, MEAN, AND STANDARD DEVIATION\u001b[0m\n\u001b[1;37m        ^\u001b[0m\n\u001b[1;31mSyntaxError\u001b[0m\u001b[1;31m:\u001b[0m unterminated string literal (detected at line 1)\n"
     ]
    }
   ],
   "source": [
    "100 'CALCULATION OF THE HISTOGRAM, MEAN, AND STANDARD DEVIATION\n",
    "110 '\n",
    "120 DIM X%[25000]        'X%[0] to X%[25000] holds the signal being processed\n",
    "130 DIM H%[255]          'H%[0] to H%[255] holds the histogram\n",
    "140 N% = 25001           'Set the number of points in the signal\n",
    "150 '\n",
    "160 FOR I% = 0 TO 255    'Zero, so it can be used as an accumulator\n",
    "170   H%[I%] = 0\n",
    "180 NEXT I%\n",
    "190 '\n",
    "200 GOSUB XXXX           'Mythical subroutine that loads the signal into X%[ ]\n",
    "210 '\n",
    "220 FOR I% = 0 TO 25000  'Calculate the histogram for 25001 points\n",
    "230   H%[ X%[I%] ] = H%[ X%[I%] ] + 1   \n",
    "240 NEXT I%\n",
    "250 '\n",
    "260 MEAN = 0             'Calculate the mean via Eq. 2-6\n",
    "270 FOR I% = 0 TO 255\n",
    "280   MEAN = MEAN + I% * H%[I%]\n",
    "290 NEXT I%\n",
    "300 MEAN = MEAN / N%\n",
    "310 '\n",
    "320 VARIANCE = 0         'Calculate the standard deviation via Eq. 2-7\n",
    "330 FOR I% = 0 TO 255\n",
    "340   VARIANCE = VARIANCE + H[I%] * (I%-MEAN)^2\n",
    "350 NEXT I%\n",
    "360 VARIANCE = VARIANCE / (N%-1)\n",
    "370 SD = SQR(VARIANCE)\n",
    "380 '\n",
    "390 PRINT  MEAN  SD      'Print the calculated mean and standard deviation.\n",
    "400 '\n",
    "410 END"
   ]
  },
  {
   "cell_type": "code",
   "execution_count": 25,
   "id": "649baec6-88fd-4ed7-a049-cac71d5b4758",
   "metadata": {},
   "outputs": [
    {
     "name": "stdout",
     "output_type": "stream",
     "text": [
      "Mean:127.38,Standard Deviation:74.13\n"
     ]
    }
   ],
   "source": [
    "#2-3 BASIC To Python\n",
    "n = 25001\n",
    "#Generate random integers\n",
    "x = [random.randint(0,254) for i in range(n)]\n",
    "\n",
    "#Initialise list of histogram values\n",
    "h = []\n",
    "for i in range(255):\n",
    "    h.append(0)\n",
    "\n",
    "#Calculate Histogram\n",
    "for i in range(len(x)):\n",
    "    h[x[i]] = h[x[i]] + 1\n",
    "\n",
    "mean = 0\n",
    "for i in range(len(h)):\n",
    "    mean = mean + i * h[i]\n",
    "mean = mean / n\n",
    "\n",
    "variance = 0\n",
    "for i in range(len(h)):\n",
    "    variance = variance + h[i] * (i - mean)**2\n",
    "variance = variance / (n-1)\n",
    "sd = math.sqrt(variance)\n",
    "print(f'Mean:{round(mean,2)},Standard Deviation:{round(sd,2)}')"
   ]
  },
  {
   "cell_type": "code",
   "execution_count": 26,
   "id": "62decd2f-4561-4dad-adc4-2715ada1eab3",
   "metadata": {},
   "outputs": [
    {
     "name": "stdout",
     "output_type": "stream",
     "text": [
      "Mean:127.38,Standard Deviation:74.13\n"
     ]
    }
   ],
   "source": [
    "#2-3 Pythonic\n",
    "n = 25001\n",
    "\n",
    "#Initialise list of histogram values\n",
    "h = [0] * 255\n",
    "\n",
    "#Calculate Histogram\n",
    "for i in range(len(x)):\n",
    "    h[x[i]] = h[x[i]] + 1\n",
    "\n",
    "#This is probably a great example of where numpy multiplication makes more sense, but we will avoid it and use a list comprehension\n",
    "mean = sum([i * value for i,value in enumerate(h)])\n",
    "mean = mean / n\n",
    "\n",
    "variance = sum([value * (i - mean)**2 for i,value in enumerate(h)])\n",
    "variance = variance / (n - 1)\n",
    "sd = math.sqrt(variance)\n",
    "\n",
    "print(f'Mean:{round(mean,2)},Standard Deviation:{round(sd,2)}')"
   ]
  },
  {
   "cell_type": "markdown",
   "id": "b22b9f6d-300e-42ff-9104-6984d25f7763",
   "metadata": {},
   "source": [
    "## 2-4 Calculating the Binned Histogram"
   ]
  },
  {
   "cell_type": "code",
   "execution_count": 28,
   "id": "7a1dbd2e-cd65-43d5-9932-15c88e0c7ce9",
   "metadata": {},
   "outputs": [],
   "source": [
    "#2-4 BASIC To Python\n",
    "n = 25000\n",
    "#Generate random integers\n",
    "x = [random.random()*10 for i in range(n)]\n",
    "\n",
    "#Initialise list of histogram values.  Note that the length of the array is 1000 since so that position 999 exists.\n",
    "h = []\n",
    "for i in range(1000):\n",
    "    h.append(0)\n",
    "\n",
    "for i in range(n):\n",
    "    bin_num = int(x[i] * 100) #Multipled by 100 instead of the .01 in the book.  This is listed as errata on the book website. \n",
    "    h[bin_num] = h[bin_num]+1"
   ]
  },
  {
   "cell_type": "code",
   "execution_count": 46,
   "id": "a0fc586d-a874-4f26-85c4-8be817c8c9bf",
   "metadata": {},
   "outputs": [],
   "source": [
    "#2-4 Pythonic\n",
    "#Initialise list of histogram values.  Note that the length of the array is 1000 since so that position 999 exists.\n",
    "h = [0] * 1000\n",
    "\n",
    "bin_num = [int((i) * 100) for i in x]\n",
    "#h = [for i in bin_num]\n",
    "\n",
    "#This avoids the loop, but I'm not confident that this is better than the loop.\n",
    "from collections import Counter\n",
    "bin_num_unsort = Counter(bin_num)\n",
    "bin_num_sort = sorted(bin_num_unsort.items())\n",
    "bin_num = [y for x,y in bin_num_sort]"
   ]
  },
  {
   "cell_type": "code",
   "execution_count": null,
   "id": "d6e65dd1-dede-4867-bdca-ebe62f0a4018",
   "metadata": {},
   "outputs": [],
   "source": []
  }
 ],
 "metadata": {
  "kernelspec": {
   "display_name": "Python 3 (ipykernel)",
   "language": "python",
   "name": "python3"
  },
  "language_info": {
   "codemirror_mode": {
    "name": "ipython",
    "version": 3
   },
   "file_extension": ".py",
   "mimetype": "text/x-python",
   "name": "python",
   "nbconvert_exporter": "python",
   "pygments_lexer": "ipython3",
   "version": "3.12.2"
  }
 },
 "nbformat": 4,
 "nbformat_minor": 5
}
